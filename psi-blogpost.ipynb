{
 "cells": [
  {
   "cell_type": "markdown",
   "metadata": {},
   "source": [
    "# Private Set Intersection in Julia\n",
    "\n",
    "Brian Thorne, [@thorneynz](https://twitter.com/thorneynz)"
   ]
  },
  {
   "cell_type": "markdown",
   "metadata": {},
   "source": [
    "Let's make a Julia implementation of private set intersection! Our template will be the 2004 paper _Efficient Private Matching and Set Intersection_ by Michael Freedman, Kobbi Nissim, and Benny Pinkas. This will serve as the first example use of my [Paillier.jl](https://github.com/hardbyte/Paillier.jl/) package (Paillier is a partially homomorphic cryptosystem).\n",
    "\n",
    "_Note quotes from the paper will appear like this:_\n",
    "\n",
    "> We consider the problem of computing the intersection of private datasets of two parties, where the datasets contain lists of elements taken from a large domain. This problem has many applications for online collaboration.\n",
    "\n",
    "The point is that computing set intersection in a privacy preserving way is a highly useful thing to do. The *Confidential Computing* team at CSIRO's Data61 along with our spin-out tracked company [N1 Analytics](https://n1analytics.com) have been using similar techniques for private machine learning as well as looking extensively at related problems of privacy preserving record linkage.\n",
    "\n",
    "In this post we will go through the full implementation of the two-party protocol which is secure in the standard model considering **Semi-honest adversaries**.\n",
    "\n",
    "# Preliminaries\n",
    "\n",
    "## Protocol Variants\n",
    "\n",
    "### Private Matching\n",
    "\n",
    "In private matching a client and a server each have input sets $A$ and $B$ respectively, after running the protocol the client learns which specific input elements were shared with the server. That is the client learns $A ∩ B$.\n",
    "\n",
    "An example use between businesses might be identifying customers in common using a sensitive identifier such as credit card number.\n",
    "\n",
    "\n",
    "### Private Cardinality Matching\n",
    "\n",
    "A variant to the protocol supports learning _how many_ inputs are shared between the client and the server.\n",
    "\n",
    "## Homomorphic Encryption Scheme\n",
    "\n",
    "The homomorphic properties required for the protocol are:\n",
    "\n",
    "* Encrypted numbers can be added together.\n",
    "* Encrypted numbers can be multiplied by a non encrypted scalar.\n",
    "\n",
    "These properties are both met by the Paillier public-key cryptosystem. Without requiring access to the private key the following operations are possible:\n",
    "\n",
    "* Given $Enc(m_1)$ and $Enc(m_2)$ we can efficiently compute $Enc(m_1 + m_2)$\n",
    "* Given a scalar $c$ (from the same group) we can compute $Enc(c \\cdot m)$\n",
    "\n",
    "By combining these two operations note that given encrypted coefficients $a_0,...a_k$ of a polynomial $P$ it is possible to compute the encrypted evaluation of the polynomial at a plaintext value $y$, that is: $Enc(P(y))$"
   ]
  },
  {
   "cell_type": "markdown",
   "metadata": {},
   "source": [
    "## sketch of the protocol\n",
    "\n",
    "### client phase\n",
    "\n",
    "The client defines a polynomial with her inputs as the roots:\n",
    "\n",
    "$\n",
    "P(y) = (x_1 - y)(x_2 - y)...(x_{k_c} - y) = \\sum\\limits_{u=0}^{k_c} \\alpha_u y^u\n",
    "$\n",
    "\n",
    "The polynomial coefficients will be encrypted using Paillier and sent to the server.\n",
    "\n",
    "Before we worry about encryption let's use the Julia [Polynomial.jl](http://juliamath.github.io/Polynomials.jl/latest/) package to get the coefficients."
   ]
  },
  {
   "cell_type": "code",
   "execution_count": 21,
   "metadata": {},
   "outputs": [
    {
     "data": {
      "text/html": [
       "1 &#43; 2&#8729;x &#43; 3&#8729;x<sup>2</sup> &#43; x<sup>4</sup>"
      ],
      "text/latex": [
       "$1 + 2\\cdot x + 3\\cdot x^{2} + x^{4}$"
      ],
      "text/plain": [
       "Poly(1 + 2*x + 3*x^2 + x^4)"
      ]
     },
     "execution_count": 21,
     "metadata": {},
     "output_type": "execute_result"
    }
   ],
   "source": [
    "#using Pkg; Pkg.add(\"Polynomials\")\n",
    "using Polynomials: Poly, poly, coeffs, roots\n",
    "include(\"helpers.jl\")\n",
    "\n",
    "# We can define Poly objects by their coefficients:\n",
    "Poly([1, 2, 3, 0, 1])"
   ]
  },
  {
   "cell_type": "code",
   "execution_count": 2,
   "metadata": {},
   "outputs": [
    {
     "ename": "UndefVarError",
     "evalue": "UndefVarError: p not defined",
     "output_type": "error",
     "traceback": [
      "UndefVarError: p not defined",
      "",
      "Stacktrace:",
      " [1] top-level scope at In[2]:1"
     ]
    }
   ],
   "source": [
    "p"
   ]
  },
  {
   "cell_type": "markdown",
   "metadata": {},
   "source": [
    "If we have the polynomial's roots - as in the private set intersection protocol - we use the `poly` contsructor instead. Passing in the roots:"
   ]
  },
  {
   "cell_type": "code",
   "execution_count": 3,
   "metadata": {},
   "outputs": [
    {
     "data": {
      "text/html": [
       "100 &#45; 40&#8729;x &#45; 7&#8729;x<sup>2</sup> &#43; x<sup>3</sup>"
      ],
      "text/latex": [
       "$100 - 40\\cdot x - 7\\cdot x^{2} + x^{3}$"
      ],
      "text/plain": [
       "Poly(100 - 40*x - 7*x^2 + x^3)"
      ]
     },
     "execution_count": 3,
     "metadata": {},
     "output_type": "execute_result"
    }
   ],
   "source": [
    "p = poly([-5, 2, 10])"
   ]
  },
  {
   "cell_type": "markdown",
   "metadata": {},
   "source": [
    "From the representation of the polynomial we can see that the coefficients are stored rather than the roots.\n",
    "\n",
    "With a small plotting recipe (which I've hidden in a separate file) we can plot the polynomial and see the 3 roots."
   ]
  },
  {
   "cell_type": "code",
   "execution_count": 4,
   "metadata": {},
   "outputs": [
    {
     "data": {
      "image/svg+xml": [
       "<?xml version=\"1.0\" encoding=\"utf-8\"?>\n",
       "<svg xmlns=\"http://www.w3.org/2000/svg\" xmlns:xlink=\"http://www.w3.org/1999/xlink\" width=\"600\" height=\"400\" viewBox=\"0 0 2400 1600\">\n",
       "<defs>\n",
       "  <clipPath id=\"clip3400\">\n",
       "    <rect x=\"0\" y=\"0\" width=\"2000\" height=\"2000\"/>\n",
       "  </clipPath>\n",
       "</defs>\n",
       "<defs>\n",
       "  <clipPath id=\"clip3401\">\n",
       "    <rect x=\"0\" y=\"0\" width=\"2400\" height=\"1600\"/>\n",
       "  </clipPath>\n",
       "</defs>\n",
       "<polygon clip-path=\"url(#clip3401)\" points=\"\n",
       "0,1600 2400,1600 2400,0 0,0 \n",
       "  \" fill=\"#ffffff\" fill-rule=\"evenodd\" fill-opacity=\"1\"/>\n",
       "<defs>\n",
       "  <clipPath id=\"clip3402\">\n",
       "    <rect x=\"480\" y=\"0\" width=\"1681\" height=\"1600\"/>\n",
       "  </clipPath>\n",
       "</defs>\n",
       "<polygon clip-path=\"url(#clip3401)\" points=\"\n",
       "202.885,1503.47 2321.26,1503.47 2321.26,125.984 202.885,125.984 \n",
       "  \" fill=\"#ffffff\" fill-rule=\"evenodd\" fill-opacity=\"1\"/>\n",
       "<defs>\n",
       "  <clipPath id=\"clip3403\">\n",
       "    <rect x=\"202\" y=\"125\" width=\"2119\" height=\"1378\"/>\n",
       "  </clipPath>\n",
       "</defs>\n",
       "<polyline clip-path=\"url(#clip3403)\" style=\"stroke:#000000; stroke-width:2; stroke-opacity:0.1; fill:none\" points=\"\n",
       "  548.335,1503.47 548.335,125.984 \n",
       "  \"/>\n",
       "<polyline clip-path=\"url(#clip3403)\" style=\"stroke:#000000; stroke-width:2; stroke-opacity:0.1; fill:none\" points=\"\n",
       "  1024.16,1503.47 1024.16,125.984 \n",
       "  \"/>\n",
       "<polyline clip-path=\"url(#clip3403)\" style=\"stroke:#000000; stroke-width:2; stroke-opacity:0.1; fill:none\" points=\"\n",
       "  1499.99,1503.47 1499.99,125.984 \n",
       "  \"/>\n",
       "<polyline clip-path=\"url(#clip3403)\" style=\"stroke:#000000; stroke-width:2; stroke-opacity:0.1; fill:none\" points=\"\n",
       "  1975.81,1503.47 1975.81,125.984 \n",
       "  \"/>\n",
       "<polyline clip-path=\"url(#clip3403)\" style=\"stroke:#000000; stroke-width:2; stroke-opacity:0.1; fill:none\" points=\"\n",
       "  202.885,1418.65 2321.26,1418.65 \n",
       "  \"/>\n",
       "<polyline clip-path=\"url(#clip3403)\" style=\"stroke:#000000; stroke-width:2; stroke-opacity:0.1; fill:none\" points=\"\n",
       "  202.885,1132.16 2321.26,1132.16 \n",
       "  \"/>\n",
       "<polyline clip-path=\"url(#clip3403)\" style=\"stroke:#000000; stroke-width:2; stroke-opacity:0.1; fill:none\" points=\"\n",
       "  202.885,845.67 2321.26,845.67 \n",
       "  \"/>\n",
       "<polyline clip-path=\"url(#clip3403)\" style=\"stroke:#000000; stroke-width:2; stroke-opacity:0.1; fill:none\" points=\"\n",
       "  202.885,559.18 2321.26,559.18 \n",
       "  \"/>\n",
       "<polyline clip-path=\"url(#clip3403)\" style=\"stroke:#000000; stroke-width:2; stroke-opacity:0.1; fill:none\" points=\"\n",
       "  202.885,272.69 2321.26,272.69 \n",
       "  \"/>\n",
       "<polyline clip-path=\"url(#clip3401)\" style=\"stroke:#000000; stroke-width:4; stroke-opacity:1; fill:none\" points=\"\n",
       "  202.885,1503.47 2321.26,1503.47 \n",
       "  \"/>\n",
       "<polyline clip-path=\"url(#clip3401)\" style=\"stroke:#000000; stroke-width:4; stroke-opacity:1; fill:none\" points=\"\n",
       "  202.885,1503.47 202.885,125.984 \n",
       "  \"/>\n",
       "<polyline clip-path=\"url(#clip3401)\" style=\"stroke:#000000; stroke-width:4; stroke-opacity:1; fill:none\" points=\"\n",
       "  548.335,1503.47 548.335,1482.81 \n",
       "  \"/>\n",
       "<polyline clip-path=\"url(#clip3401)\" style=\"stroke:#000000; stroke-width:4; stroke-opacity:1; fill:none\" points=\"\n",
       "  1024.16,1503.47 1024.16,1482.81 \n",
       "  \"/>\n",
       "<polyline clip-path=\"url(#clip3401)\" style=\"stroke:#000000; stroke-width:4; stroke-opacity:1; fill:none\" points=\"\n",
       "  1499.99,1503.47 1499.99,1482.81 \n",
       "  \"/>\n",
       "<polyline clip-path=\"url(#clip3401)\" style=\"stroke:#000000; stroke-width:4; stroke-opacity:1; fill:none\" points=\"\n",
       "  1975.81,1503.47 1975.81,1482.81 \n",
       "  \"/>\n",
       "<polyline clip-path=\"url(#clip3401)\" style=\"stroke:#000000; stroke-width:4; stroke-opacity:1; fill:none\" points=\"\n",
       "  202.885,1418.65 234.661,1418.65 \n",
       "  \"/>\n",
       "<polyline clip-path=\"url(#clip3401)\" style=\"stroke:#000000; stroke-width:4; stroke-opacity:1; fill:none\" points=\"\n",
       "  202.885,1132.16 234.661,1132.16 \n",
       "  \"/>\n",
       "<polyline clip-path=\"url(#clip3401)\" style=\"stroke:#000000; stroke-width:4; stroke-opacity:1; fill:none\" points=\"\n",
       "  202.885,845.67 234.661,845.67 \n",
       "  \"/>\n",
       "<polyline clip-path=\"url(#clip3401)\" style=\"stroke:#000000; stroke-width:4; stroke-opacity:1; fill:none\" points=\"\n",
       "  202.885,559.18 234.661,559.18 \n",
       "  \"/>\n",
       "<polyline clip-path=\"url(#clip3401)\" style=\"stroke:#000000; stroke-width:4; stroke-opacity:1; fill:none\" points=\"\n",
       "  202.885,272.69 234.661,272.69 \n",
       "  \"/>\n",
       "<g clip-path=\"url(#clip3401)\">\n",
       "<text style=\"fill:#000000; fill-opacity:1; font-family:Arial,Helvetica Neue,Helvetica,sans-serif; font-size:48px; text-anchor:middle;\" transform=\"rotate(0, 548.335, 1557.47)\" x=\"548.335\" y=\"1557.47\">-5</text>\n",
       "</g>\n",
       "<g clip-path=\"url(#clip3401)\">\n",
       "<text style=\"fill:#000000; fill-opacity:1; font-family:Arial,Helvetica Neue,Helvetica,sans-serif; font-size:48px; text-anchor:middle;\" transform=\"rotate(0, 1024.16, 1557.47)\" x=\"1024.16\" y=\"1557.47\">0</text>\n",
       "</g>\n",
       "<g clip-path=\"url(#clip3401)\">\n",
       "<text style=\"fill:#000000; fill-opacity:1; font-family:Arial,Helvetica Neue,Helvetica,sans-serif; font-size:48px; text-anchor:middle;\" transform=\"rotate(0, 1499.99, 1557.47)\" x=\"1499.99\" y=\"1557.47\">5</text>\n",
       "</g>\n",
       "<g clip-path=\"url(#clip3401)\">\n",
       "<text style=\"fill:#000000; fill-opacity:1; font-family:Arial,Helvetica Neue,Helvetica,sans-serif; font-size:48px; text-anchor:middle;\" transform=\"rotate(0, 1975.81, 1557.47)\" x=\"1975.81\" y=\"1557.47\">10</text>\n",
       "</g>\n",
       "<g clip-path=\"url(#clip3401)\">\n",
       "<text style=\"fill:#000000; fill-opacity:1; font-family:Arial,Helvetica Neue,Helvetica,sans-serif; font-size:48px; text-anchor:end;\" transform=\"rotate(0, 178.885, 1436.15)\" x=\"178.885\" y=\"1436.15\">-500</text>\n",
       "</g>\n",
       "<g clip-path=\"url(#clip3401)\">\n",
       "<text style=\"fill:#000000; fill-opacity:1; font-family:Arial,Helvetica Neue,Helvetica,sans-serif; font-size:48px; text-anchor:end;\" transform=\"rotate(0, 178.885, 1149.66)\" x=\"178.885\" y=\"1149.66\">-250</text>\n",
       "</g>\n",
       "<g clip-path=\"url(#clip3401)\">\n",
       "<text style=\"fill:#000000; fill-opacity:1; font-family:Arial,Helvetica Neue,Helvetica,sans-serif; font-size:48px; text-anchor:end;\" transform=\"rotate(0, 178.885, 863.17)\" x=\"178.885\" y=\"863.17\">0</text>\n",
       "</g>\n",
       "<g clip-path=\"url(#clip3401)\">\n",
       "<text style=\"fill:#000000; fill-opacity:1; font-family:Arial,Helvetica Neue,Helvetica,sans-serif; font-size:48px; text-anchor:end;\" transform=\"rotate(0, 178.885, 576.68)\" x=\"178.885\" y=\"576.68\">250</text>\n",
       "</g>\n",
       "<g clip-path=\"url(#clip3401)\">\n",
       "<text style=\"fill:#000000; fill-opacity:1; font-family:Arial,Helvetica Neue,Helvetica,sans-serif; font-size:48px; text-anchor:end;\" transform=\"rotate(0, 178.885, 290.19)\" x=\"178.885\" y=\"290.19\">500</text>\n",
       "</g>\n",
       "<g clip-path=\"url(#clip3401)\">\n",
       "<text style=\"fill:#000000; fill-opacity:1; font-family:Arial,Helvetica Neue,Helvetica,sans-serif; font-size:84px; text-anchor:middle;\" transform=\"rotate(0, 1262.07, 73.2)\" x=\"1262.07\" y=\"73.2\">Poly(100 - 40*x - 7*x^2 + x^3)</text>\n",
       "</g>\n",
       "<polyline clip-path=\"url(#clip3403)\" style=\"stroke:#009af9; stroke-width:4; stroke-opacity:1; fill:none\" points=\"\n",
       "  262.839,1464.49 283.026,1401.9 303.212,1342.45 323.399,1286.06 343.585,1232.67 363.772,1182.21 383.958,1134.63 404.145,1089.85 424.332,1047.8 444.518,1008.43 \n",
       "  464.705,971.659 484.891,937.432 505.078,905.681 525.264,876.338 545.451,849.34 565.637,824.62 585.824,802.112 606.01,781.751 626.197,763.471 646.383,747.207 \n",
       "  666.57,732.893 686.756,720.464 706.943,709.853 727.129,700.995 747.316,693.825 767.503,688.277 787.689,684.285 807.876,681.783 828.062,680.707 848.249,680.99 \n",
       "  868.435,682.567 888.622,685.372 908.808,689.339 928.995,694.404 949.181,700.499 969.368,707.56 989.554,715.522 1009.74,724.317 1029.93,733.882 1050.11,744.149 \n",
       "  1070.3,755.054 1090.49,766.531 1110.67,778.514 1130.86,790.938 1151.05,803.737 1171.23,816.845 1191.42,830.197 1211.61,843.727 1231.79,857.369 1251.98,871.059 \n",
       "  1272.17,884.729 1292.35,898.316 1312.54,911.752 1332.73,924.973 1352.91,937.912 1373.1,950.505 1393.29,962.685 1413.47,974.387 1433.66,985.545 1453.84,996.093 \n",
       "  1474.03,1005.97 1494.22,1015.1 1514.4,1023.43 1534.59,1030.88 1554.78,1037.4 1574.96,1042.91 1595.15,1047.36 1615.34,1050.67 1635.52,1052.78 1655.71,1053.63 \n",
       "  1675.9,1053.14 1696.08,1051.26 1716.27,1047.91 1736.46,1043.04 1756.64,1036.57 1776.83,1028.45 1797.02,1018.6 1817.2,1006.95 1837.39,993.455 1857.58,978.035 \n",
       "  1877.76,960.627 1897.95,941.167 1918.13,919.587 1938.32,895.823 1958.51,869.809 1978.69,841.479 1998.88,810.768 2019.07,777.61 2039.25,741.94 2059.44,703.691 \n",
       "  2079.63,662.799 2099.81,619.197 2120,572.82 2140.19,523.603 2160.37,471.479 2180.56,416.384 2200.75,358.251 2220.93,297.014 2241.12,232.609 2261.31,164.97 \n",
       "  \n",
       "  \"/>\n",
       "<polygon clip-path=\"url(#clip3401)\" points=\"\n",
       "1958.43,330.464 2249.26,330.464 2249.26,209.504 1958.43,209.504 \n",
       "  \" fill=\"#ffffff\" fill-rule=\"evenodd\" fill-opacity=\"1\"/>\n",
       "<polyline clip-path=\"url(#clip3401)\" style=\"stroke:#000000; stroke-width:4; stroke-opacity:1; fill:none\" points=\"\n",
       "  1958.43,330.464 2249.26,330.464 2249.26,209.504 1958.43,209.504 1958.43,330.464 \n",
       "  \"/>\n",
       "<polyline clip-path=\"url(#clip3401)\" style=\"stroke:#009af9; stroke-width:4; stroke-opacity:1; fill:none\" points=\"\n",
       "  1982.43,269.984 2126.43,269.984 \n",
       "  \"/>\n",
       "<g clip-path=\"url(#clip3401)\">\n",
       "<text style=\"fill:#000000; fill-opacity:1; font-family:Arial,Helvetica Neue,Helvetica,sans-serif; font-size:48px; text-anchor:start;\" transform=\"rotate(0, 2150.43, 287.484)\" x=\"2150.43\" y=\"287.484\">y1</text>\n",
       "</g>\n",
       "</svg>\n"
      ]
     },
     "execution_count": 4,
     "metadata": {},
     "output_type": "execute_result"
    }
   ],
   "source": [
    "plot(p)"
   ]
  },
  {
   "cell_type": "markdown",
   "metadata": {},
   "source": [
    "We can evaluate the polynomial at any point along the x axis:"
   ]
  },
  {
   "cell_type": "code",
   "execution_count": 5,
   "metadata": {},
   "outputs": [
    {
     "data": {
      "text/plain": [
       "54"
      ]
     },
     "execution_count": 5,
     "metadata": {},
     "output_type": "execute_result"
    }
   ],
   "source": [
    "p(1)"
   ]
  },
  {
   "cell_type": "markdown",
   "metadata": {},
   "source": [
    "As you'd expect the polynomial evaluates to zero at the roots:"
   ]
  },
  {
   "cell_type": "code",
   "execution_count": 6,
   "metadata": {},
   "outputs": [
    {
     "data": {
      "text/plain": [
       "0"
      ]
     },
     "execution_count": 6,
     "metadata": {},
     "output_type": "execute_result"
    }
   ],
   "source": [
    "p(2)"
   ]
  },
  {
   "cell_type": "markdown",
   "metadata": {},
   "source": [
    "We will need to access the coefficient values directly:"
   ]
  },
  {
   "cell_type": "code",
   "execution_count": 7,
   "metadata": {},
   "outputs": [
    {
     "data": {
      "text/plain": [
       "4-element Array{Int64,1}:\n",
       " 100\n",
       " -40\n",
       "  -7\n",
       "   1"
      ]
     },
     "execution_count": 7,
     "metadata": {},
     "output_type": "execute_result"
    }
   ],
   "source": [
    "coeffs(p)"
   ]
  },
  {
   "cell_type": "markdown",
   "metadata": {},
   "source": [
    "Now that we've gotten the coefficients from our polynomials we can encrypt them using the [Paillier.jl](https://github.com/hardbyte/Paillier.jl) package."
   ]
  },
  {
   "cell_type": "code",
   "execution_count": 8,
   "metadata": {},
   "outputs": [],
   "source": [
    "using Paillier"
   ]
  },
  {
   "cell_type": "markdown",
   "metadata": {},
   "source": [
    "First we'll generate a new public/private keypair. In the private set intersection protocol only the client will have access to the private key."
   ]
  },
  {
   "cell_type": "code",
   "execution_count": 9,
   "metadata": {},
   "outputs": [],
   "source": [
    "pub, priv = generate_paillier_keypair(512);"
   ]
  },
  {
   "cell_type": "markdown",
   "metadata": {},
   "source": [
    "Let's briefly investigate these homomorphic properties. We multiply an encrypted number by 2 (a plaintext scalar), then add two encrypted numbers together:"
   ]
  },
  {
   "cell_type": "code",
   "execution_count": 10,
   "metadata": {},
   "outputs": [
    {
     "data": {
      "text/plain": [
       "25"
      ]
     },
     "execution_count": 10,
     "metadata": {},
     "output_type": "execute_result"
    }
   ],
   "source": [
    "decrypt(priv, 2 * encrypt(pub, 10) + encrypt(pub, 5))"
   ]
  },
  {
   "cell_type": "markdown",
   "metadata": {},
   "source": [
    "Our inputs might not be integers, so we define an encoding from a Julia datatype for the public key. In this case we will map `Float64` numbers to `BigInt`."
   ]
  },
  {
   "cell_type": "code",
   "execution_count": 103,
   "metadata": {},
   "outputs": [
    {
     "data": {
      "text/plain": [
       "6-element Array{BigInt,1}:\n",
       "              0\n",
       "   501377302266\n",
       " 35184372088832\n",
       "   549755813888\n",
       " 79164837199872\n",
       "  1099511627776"
      ]
     },
     "execution_count": 103,
     "metadata": {},
     "output_type": "execute_result"
    }
   ],
   "source": [
    "client_input_set = Set([0.0, 1.0, 0.456, 32, 72, 0.5])\n",
    "encoding = Encoding(Float64, pub)\n",
    "exponent = -10\n",
    "encoded_input_set = [encode(x, encoding, exponent).value for x in client_input_set]"
   ]
  },
  {
   "cell_type": "markdown",
   "metadata": {},
   "source": [
    "These _encoded inputs_ will be used as our polynomial roots. Remember this constructor assumes the form: `(x - a1)(x - a2)...`"
   ]
  },
  {
   "cell_type": "code",
   "execution_count": 104,
   "metadata": {},
   "outputs": [
    {
     "data": {
      "text/html": [
       "&#45;844143837906021145209112739475215781925673137827591153235525632&#8729;x &#43; 4021538057358975815249859704397123842414322206638080&#8729;x<sup>2</sup> &#45; 6154309669748639409479151141905420517376&#8729;x<sup>3</sup> &#43; 3032720982491832368481959936&#8729;x<sup>4</sup> &#45; 116499854032634&#8729;x<sup>5</sup> &#43; x<sup>6</sup>"
      ],
      "text/latex": [
       "$-844143837906021145209112739475215781925673137827591153235525632\\cdot x + 4021538057358975815249859704397123842414322206638080\\cdot x^{2} - 6154309669748639409479151141905420517376\\cdot x^{3} + 3032720982491832368481959936\\cdot x^{4} - 116499854032634\\cdot x^{5} + x^{6}$"
      ],
      "text/plain": [
       "Poly(-844143837906021145209112739475215781925673137827591153235525632*x + 4021538057358975815249859704397123842414322206638080*x^2 - 6154309669748639409479151141905420517376*x^3 + 3032720982491832368481959936*x^4 - 116499854032634*x^5 + x^6)"
      ]
     },
     "execution_count": 104,
     "metadata": {},
     "output_type": "execute_result"
    }
   ],
   "source": [
    "p = poly(encoded_input_set)"
   ]
  },
  {
   "cell_type": "code",
   "execution_count": 105,
   "metadata": {},
   "outputs": [
    {
     "data": {
      "text/plain": [
       "7-element Array{BigInt,1}:\n",
       "                                                                0\n",
       " -844143837906021145209112739475215781925673137827591153235525632\n",
       "             4021538057358975815249859704397123842414322206638080\n",
       "                        -6154309669748639409479151141905420517376\n",
       "                                     3032720982491832368481959936\n",
       "                                                 -116499854032634\n",
       "                                                                1"
      ]
     },
     "execution_count": 105,
     "metadata": {},
     "output_type": "execute_result"
    }
   ],
   "source": [
    "polynomialcoeffs = coeffs(p)"
   ]
  },
  {
   "cell_type": "markdown",
   "metadata": {},
   "source": [
    "The polynomial coefficients now have negative values, **which can't be encrypted** (without encoding)."
   ]
  },
  {
   "cell_type": "code",
   "execution_count": 106,
   "metadata": {},
   "outputs": [
    {
     "ename": "DomainError",
     "evalue": "DomainError with Can't encrypt negative integers without encoding:\n",
     "output_type": "error",
     "traceback": [
      "DomainError with Can't encrypt negative integers without encoding:\n",
      "",
      "Stacktrace:",
      " [1] encrypt(::PublicKey, ::BigInt) at /home/brian/dev/Paillier.jl/src/cryptosystem.jl:90",
      " [2] top-level scope at In[106]:1"
     ]
    }
   ],
   "source": [
    "encrypt(pub, polynomialcoeffs[2])"
   ]
  },
  {
   "cell_type": "markdown",
   "metadata": {},
   "source": [
    "To get around this we map the signed coefficients onto the $Z_n$ ring. $n$ is a very large integer that is part of the Paillier public key.\n",
    "\n",
    "Broadcast the `mod` operator across the array:"
   ]
  },
  {
   "cell_type": "code",
   "execution_count": 107,
   "metadata": {},
   "outputs": [
    {
     "data": {
      "text/plain": [
       "7-element Array{BigInt,1}:\n",
       "                                                                                                                                                           0\n",
       " 11402890060250396227734142451663363280469024798656361203129159238121750968913453864197187992587016047902313569346109629106876300180695299357538310479138325\n",
       "                                                                                                        4021538057358975815249859704397123842414322206638080\n",
       " 11402890060250396227734142451663363280469024798656361203129159238121750968913453864197187993431159885808334714555216214272422333466958958033987558294146581\n",
       "                                                                                                                                3032720982491832368481959936\n",
       " 11402890060250396227734142451663363280469024798656361203129159238121750968913453864197187993431159885808334714555222368582092082106368437185012963860631323\n",
       "                                                                                                                                                           1"
      ]
     },
     "execution_count": 107,
     "metadata": {},
     "output_type": "execute_result"
    }
   ],
   "source": [
    "polynomialcoeffs_zn = mod.(polynomialcoeffs, pub.n)"
   ]
  },
  {
   "cell_type": "markdown",
   "metadata": {},
   "source": [
    "These coefficients are positive but also in some cases very large. Note when we encoded the client input set we purposely mapped to `BigInt` to avoid wrapping around that `Int64` numbers would exhibit. \n",
    "\n",
    "Now we can use Paillier to encrypt the polynomial coefficients:"
   ]
  },
  {
   "cell_type": "code",
   "execution_count": 108,
   "metadata": {},
   "outputs": [],
   "source": [
    "encrypted_polynomial = [encrypt(pub, coeff) for coeff in polynomialcoeffs_zn];"
   ]
  },
  {
   "cell_type": "markdown",
   "metadata": {},
   "source": [
    "These encrypted coefficients, the encoding, and the public key are now shared to the _server_ party with their own input set $B$. The server follows the same process to encode their input set:"
   ]
  },
  {
   "cell_type": "code",
   "execution_count": 109,
   "metadata": {},
   "outputs": [
    {
     "data": {
      "text/plain": [
       "6-element Array{BigInt,1}:\n",
       "               0\n",
       "  35184372088832\n",
       " 135239930216448\n",
       "    549755813888\n",
       "  79164837199872\n",
       "  49478023249920"
      ]
     },
     "execution_count": 109,
     "metadata": {},
     "output_type": "execute_result"
    }
   ],
   "source": [
    "server_set = Set([0.0, 123, 32.0, 45.0, 72, 0.5])\n",
    "encoded_server_set = [encode(x, encoding, exponent).value for x in server_set]"
   ]
  },
  {
   "cell_type": "markdown",
   "metadata": {},
   "source": [
    "Now the server evaluates the encrypted polynomial at each of their inputs. This is the naive way to evaluate the polynomial:"
   ]
  },
  {
   "cell_type": "code",
   "execution_count": 110,
   "metadata": {},
   "outputs": [],
   "source": [
    "function evaluate_enc_p(x, encrypted_polynomial)\n",
    "    encres = encrypt(pub, 0)\n",
    "    for power in 0:length(encrypted_polynomial)-1\n",
    "        a = encrypted_polynomial[power+1]\n",
    "        encres += a * x^power\n",
    "    end\n",
    "    return encres\n",
    "end\n",
    "\n",
    "serverresults = []\n",
    "\n",
    "for input in encoded_server_set\n",
    "    enc_p_y = evaluate_enc_p(input, encrypted_polynomial)\n",
    "\n",
    "    enc_y = encrypt(pub, input)\n",
    "\n",
    "    # Multiplying by this r should take the result outside of possible set values:\n",
    "    r = Main.Paillier.n_bit_random_number(32)\n",
    "\n",
    "    push!(serverresults, r * enc_p_y + enc_y)\n",
    "end"
   ]
  },
  {
   "cell_type": "markdown",
   "metadata": {},
   "source": [
    "Now the results of evaluating an encrypted polynomial are still encrypted and the server doesn't have the private key. The final step in this private set intersection protocol is carried out by the client. The server sends over `serverresults` and the client can compute the intersection.\n",
    "\n",
    "The client decrypts each result from the server, compares to the clients own (encoded) input set, and if there was a match we know that the decoded input is shared."
   ]
  },
  {
   "cell_type": "code",
   "execution_count": 111,
   "metadata": {},
   "outputs": [
    {
     "data": {
      "text/plain": [
       "Set([0.0, 32.0, 0.5, 72.0])"
      ]
     },
     "execution_count": 111,
     "metadata": {},
     "output_type": "execute_result"
    }
   ],
   "source": [
    "function get_intersection(encoded_input_set, enc, privatekey, encoding)\n",
    "    intersection::Set{encoding.datatype} = Set()\n",
    "    for encval in enc\n",
    "            decrypted = decrypt(privatekey, encval)\n",
    "            \n",
    "            if decrypted in encoded_input_set\n",
    "                decoded = decode(decrypted, exponent, encoding)\n",
    "                push!(intersection, decoded)\n",
    "            end\n",
    "    end\n",
    "    intersection\n",
    "end\n",
    "\n",
    "get_intersection(encoded_input_set, serverresults, priv, encoding)"
   ]
  },
  {
   "cell_type": "markdown",
   "metadata": {},
   "source": [
    "Okay the client has identified which inputs intersected with the servers. \n",
    "\n",
    "This is just the first pass - the paper points out a few things to improve on such as evaluating the encrypted polynomial using Horner's rule. I don't think it is worth adding them to the blog post though, but if you're interested take a look through the final code in [examples/private_set_intersection.jl](https://github.com/hardbyte/Paillier.jl/blob/master/examples/private_set_intersection.jl)."
   ]
  },
  {
   "cell_type": "markdown",
   "metadata": {},
   "source": [
    "## References\n",
    "\n",
    "- [1] Freedman M.J., Nissim K., Pinkas B. (2004) Efficient Private Matching and Set Intersection. In: Cachin C., Camenisch J.L. (eds) Advances in Cryptology - EUROCRYPT 2004. EUROCRYPT 2004. Lecture Notes in Computer Science, vol 3027. Springer, Berlin, Heidelberg [[pdf](https://link.springer.com/content/pdf/10.1007/978-3-540-24676-3_1.pdf)]\n"
   ]
  },
  {
   "cell_type": "code",
   "execution_count": null,
   "metadata": {},
   "outputs": [],
   "source": []
  }
 ],
 "metadata": {
  "kernelspec": {
   "display_name": "Julia 1.0.3",
   "language": "julia",
   "name": "julia-1.0"
  },
  "language_info": {
   "file_extension": ".jl",
   "mimetype": "application/julia",
   "name": "julia",
   "version": "1.0.3"
  }
 },
 "nbformat": 4,
 "nbformat_minor": 2
}
